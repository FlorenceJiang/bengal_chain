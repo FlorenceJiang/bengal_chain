{
  "cells": [
    {
      "cell_type": "code",
      "execution_count": 2,
      "metadata": {
        "id": "IGTuqzFlSDBI"
      },
      "outputs": [],
      "source": [
        "from src.node import Node\n",
        "from src.blocks import Transaction"
      ]
    },
    {
      "cell_type": "code",
      "execution_count": 3,
      "metadata": {
        "id": "kmxW4qVjSJI2"
      },
      "outputs": [],
      "source": [
        "node1 = Node('node1', 8000)"
      ]
    },
    {
      "cell_type": "code",
      "execution_count": 4,
      "metadata": {
        "id": "6jME5RAoSVrL"
      },
      "outputs": [],
      "source": [
        "node1.start() # thread start()"
      ]
    },
    {
      "cell_type": "code",
      "execution_count": 10,
      "metadata": {
        "colab": {
          "base_uri": "https://localhost:8080/"
        },
        "id": "kFTc7EcnSWsQ",
        "outputId": "bff41077-31f9-45ef-9476-7834cecd5d5c"
      },
      "outputs": [
        {
          "name": "stdout",
          "output_type": "stream",
          "text": [
            "excution time of mine is 0:00:15.171834\n",
            "Genesis block created!\n",
            "node1 Node running...\n",
            "number of blocks: 1\n",
            "prev_hash: \n",
            "content:[source: mining, recipient: zMyaz6Szy8Es8KU/sJO9V7IRF8CvArgxjgeQhjddaCc=, amount: 0.1]\n",
            "hash: 0000045d96d25723a8a621d1c01c6402081f4086c1c1b934a2c306f7647f3162\n",
            "\n",
            "\n"
          ]
        }
      ],
      "source": [
        "node1.print_blockchain()"
      ]
    },
    {
      "cell_type": "code",
      "execution_count": 11,
      "metadata": {
        "colab": {
          "base_uri": "https://localhost:8080/"
        },
        "id": "tTcs1BMlS3Xu",
        "outputId": "058f798b-10b5-4296-d76f-9428fe44ea58"
      },
      "outputs": [
        {
          "name": "stdout",
          "output_type": "stream",
          "text": [
            "balance: 0.1\n"
          ]
        }
      ],
      "source": [
        "node1.get_balance()"
      ]
    },
    {
      "cell_type": "code",
      "execution_count": 12,
      "metadata": {
        "id": "JmiU6q5NSZCv"
      },
      "outputs": [],
      "source": [
        "node2 = Node(\"node2\", 8001)"
      ]
    },
    {
      "cell_type": "code",
      "execution_count": 13,
      "metadata": {
        "colab": {
          "base_uri": "https://localhost:8080/"
        },
        "id": "qDCrHAe-SbF5",
        "outputId": "bd62f088-a80b-4ccf-818c-0c0e05cf6404"
      },
      "outputs": [
        {
          "name": "stdout",
          "output_type": "stream",
          "text": [
            "node2 sends init request to node1\n",
            "node1 Processing request...\n",
            "Request is neither new transaction or block, return blockchain info\n",
            "node2 initialization succeeded!\n",
            "node2 Node running...\n"
          ]
        }
      ],
      "source": [
        "node2.start()"
      ]
    },
    {
      "cell_type": "code",
      "execution_count": 14,
      "metadata": {
        "colab": {
          "base_uri": "https://localhost:8080/"
        },
        "id": "v654EKwlScpq",
        "outputId": "8419048c-10f4-4812-eba3-d45469dd898b"
      },
      "outputs": [
        {
          "name": "stdout",
          "output_type": "stream",
          "text": [
            "number of blocks: 1\n",
            "prev_hash: \n",
            "content:[source: mining, recipient: zMyaz6Szy8Es8KU/sJO9V7IRF8CvArgxjgeQhjddaCc=, amount: 0.1]\n",
            "hash: 0000045d96d25723a8a621d1c01c6402081f4086c1c1b934a2c306f7647f3162\n",
            "\n",
            "\n"
          ]
        }
      ],
      "source": [
        "node2.print_blockchain()"
      ]
    },
    {
      "cell_type": "code",
      "execution_count": 15,
      "metadata": {
        "colab": {
          "base_uri": "https://localhost:8080/"
        },
        "id": "j_ou5F9DSeCD",
        "outputId": "28418395-cfc9-44a0-9fb2-f0f11b730c32"
      },
      "outputs": [
        {
          "name": "stdout",
          "output_type": "stream",
          "text": [
            "balance: 0\n"
          ]
        }
      ],
      "source": [
        "node2.get_balance()"
      ]
    },
    {
      "cell_type": "code",
      "execution_count": 16,
      "metadata": {
        "colab": {
          "base_uri": "https://localhost:8080/"
        },
        "id": "zxZJJ-5WS7DG",
        "outputId": "1a2d3e6d-72cc-44f2-9114-e53607410f73"
      },
      "outputs": [
        {
          "name": "stdout",
          "output_type": "stream",
          "text": [
            "node1 sends node2 0.03 coins...\n"
          ]
        }
      ],
      "source": [
        "print(\"node1 sends node2 0.03 coins...\")\n",
        "new_transaction = Transaction(\n",
        "    sender=node1.wallet.address,\n",
        "    recipient=node2.wallet.address,\n",
        "    amount=0.03\n",
        ")\n",
        "sig = node1.wallet.sign(str(new_transaction))\n",
        "new_transaction.set_sign(sig, node1.wallet.pubkey)"
      ]
    },
    {
      "cell_type": "code",
      "execution_count": 17,
      "metadata": {
        "colab": {
          "base_uri": "https://localhost:8080/"
        },
        "id": "c84aMc6cUMXa",
        "outputId": "db7d029a-2b08-497c-cf5b-529f20e922ec"
      },
      "outputs": [
        {
          "name": "stdout",
          "output_type": "stream",
          "text": [
            "ignore itself\n",
            "broadcasting to node node1\n",
            "node2 Processing request...\n",
            "Processing new transaction request...\n",
            "node2 transaction validation succeeded!\n"
          ]
        }
      ],
      "source": [
        "node1.submit_transaction(new_transaction)"
      ]
    },
    {
      "cell_type": "code",
      "execution_count": 18,
      "metadata": {
        "colab": {
          "base_uri": "https://localhost:8080/"
        },
        "id": "lVfvphGIUOM7",
        "outputId": "181646ac-ab2e-41f0-9845-2f68229fb579"
      },
      "outputs": [
        {
          "name": "stdout",
          "output_type": "stream",
          "text": [
            "number of blocks: 2\n",
            "prev_hash: \n",
            "content:[source: mining, recipient: zMyaz6Szy8Es8KU/sJO9V7IRF8CvArgxjgeQhjddaCc=, amount: 0.1]\n",
            "hash: 0000045d96d25723a8a621d1c01c6402081f4086c1c1b934a2c306f7647f3162\n",
            "\n",
            "\n",
            "prev_hash: \n",
            "content:[source: zMyaz6Szy8Es8KU/sJO9V7IRF8CvArgxjgeQhjddaCc=, recipient: qeD2opyJBmjTdLRc7dJ+zgRiqheZMYefCAbBqobBo1E=, amount: 0.03, source: mining, recipient: qeD2opyJBmjTdLRc7dJ+zgRiqheZMYefCAbBqobBo1E=, amount: 0.1]\n",
            "hash: 0000084d1eb5fda9349c2fae987208ce97a1c28a7f924a49606f0fb67193adc0\n",
            "\n",
            "\n"
          ]
        }
      ],
      "source": [
        "node1.print_blockchain()"
      ]
    },
    {
      "cell_type": "code",
      "execution_count": 19,
      "metadata": {
        "colab": {
          "base_uri": "https://localhost:8080/"
        },
        "id": "dg6spvFHUbKw",
        "outputId": "8f68d43c-b471-4fe7-bb12-4cf5a058912e"
      },
      "outputs": [
        {
          "name": "stdout",
          "output_type": "stream",
          "text": [
            "number of blocks: 2\n",
            "prev_hash: \n",
            "content:[source: mining, recipient: zMyaz6Szy8Es8KU/sJO9V7IRF8CvArgxjgeQhjddaCc=, amount: 0.1]\n",
            "hash: 0000045d96d25723a8a621d1c01c6402081f4086c1c1b934a2c306f7647f3162\n",
            "\n",
            "\n",
            "prev_hash: \n",
            "content:[source: zMyaz6Szy8Es8KU/sJO9V7IRF8CvArgxjgeQhjddaCc=, recipient: qeD2opyJBmjTdLRc7dJ+zgRiqheZMYefCAbBqobBo1E=, amount: 0.03, source: mining, recipient: qeD2opyJBmjTdLRc7dJ+zgRiqheZMYefCAbBqobBo1E=, amount: 0.1]\n",
            "hash: 0000084d1eb5fda9349c2fae987208ce97a1c28a7f924a49606f0fb67193adc0\n",
            "\n",
            "\n"
          ]
        }
      ],
      "source": [
        "node2.print_blockchain()"
      ]
    },
    {
      "cell_type": "code",
      "execution_count": 20,
      "metadata": {
        "colab": {
          "base_uri": "https://localhost:8080/"
        },
        "id": "Q0E8H3d5UeXD",
        "outputId": "c354db46-95f6-486a-f98d-eb402a8483fe"
      },
      "outputs": [
        {
          "name": "stdout",
          "output_type": "stream",
          "text": [
            "balance: 0.07\n"
          ]
        }
      ],
      "source": [
        "node1.get_balance()"
      ]
    },
    {
      "cell_type": "code",
      "execution_count": 21,
      "metadata": {
        "colab": {
          "base_uri": "https://localhost:8080/"
        },
        "id": "aBrvD7bdUgk8",
        "outputId": "7139b29c-70b1-4f60-b39e-47b6368ce822"
      },
      "outputs": [
        {
          "name": "stdout",
          "output_type": "stream",
          "text": [
            "balance: 0.13\n"
          ]
        }
      ],
      "source": [
        "node2.get_balance()"
      ]
    },
    {
      "cell_type": "code",
      "execution_count": null,
      "metadata": {
        "id": "riL99zDGUhV1"
      },
      "outputs": [],
      "source": []
    }
  ],
  "metadata": {
    "colab": {
      "collapsed_sections": [],
      "provenance": []
    },
    "kernelspec": {
      "display_name": "Python 3.9.12 ('blockchain101')",
      "language": "python",
      "name": "python3"
    },
    "language_info": {
      "name": "python",
      "version": "3.9.12"
    },
    "vscode": {
      "interpreter": {
        "hash": "4e56d799034857558926e85ea7ae3bb4fc2b3d445f2e82d1fc1c5438c1b60629"
      }
    }
  },
  "nbformat": 4,
  "nbformat_minor": 0
}
